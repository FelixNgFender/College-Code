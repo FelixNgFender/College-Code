{
 "cells": [
  {
   "cell_type": "markdown",
   "metadata": {},
   "source": [
    "1.6.1: Functions as Arguments"
   ]
  },
  {
   "cell_type": "code",
   "execution_count": 2,
   "metadata": {},
   "outputs": [],
   "source": [
    "def summation(n, func):\n",
    "    k, res = 1, 0\n",
    "    while k <= n:\n",
    "        res, k = res + func(k), k + 1\n",
    "    return res\n",
    "\n",
    "def cube(x):\n",
    "    return x*x*x\n",
    "\n",
    "def identity(x):\n",
    "    return x\n",
    "\n",
    "def pi_term(x):\n",
    "    return 8/((4 * x - 3) * (4 * x - 1))\n",
    "\n",
    "def sum_cubes(n):\n",
    "    return summation(n, cube)\n",
    "\n",
    "def sum_naturals(n):\n",
    "    return summation(n, identity)\n",
    "\n",
    "def pi_sum(n):\n",
    "    return summation(n, pi_term)"
   ]
  },
  {
   "cell_type": "code",
   "execution_count": null,
   "metadata": {},
   "outputs": [],
   "source": [
    "sum_cubes(10)"
   ]
  },
  {
   "cell_type": "code",
   "execution_count": null,
   "metadata": {},
   "outputs": [],
   "source": [
    "sum_naturals(10)"
   ]
  },
  {
   "cell_type": "code",
   "execution_count": null,
   "metadata": {},
   "outputs": [],
   "source": [
    "pi_sum(1000)"
   ]
  },
  {
   "cell_type": "markdown",
   "metadata": {},
   "source": [
    "1.6.2 Functions as General Methods"
   ]
  },
  {
   "cell_type": "code",
   "execution_count": null,
   "metadata": {},
   "outputs": [],
   "source": [
    "def improve(close, update, guess = 1):\n",
    "    while not close(guess):\n",
    "        guess = update(guess)\n",
    "    return guess"
   ]
  },
  {
   "cell_type": "code",
   "execution_count": null,
   "metadata": {},
   "outputs": [],
   "source": [
    "def golden_update(guess):\n",
    "    return 1/guess + 1\n",
    "\n",
    "def golden_close(guess):\n",
    "    return approx_eq(guess * guess, guess + 1)\n",
    "\n",
    "def approx_eq(x, y, threshold = 1e-15):\n",
    "    return abs(x - y) < threshold"
   ]
  },
  {
   "cell_type": "code",
   "execution_count": null,
   "metadata": {},
   "outputs": [],
   "source": [
    "improve(golden_close, golden_update, -100000000)"
   ]
  },
  {
   "cell_type": "markdown",
   "metadata": {},
   "source": [
    "1.6.3: Defining Functions III: Nested Definitions"
   ]
  },
  {
   "cell_type": "code",
   "execution_count": null,
   "metadata": {},
   "outputs": [],
   "source": [
    "def sqrt(a):\n",
    "    def sqrt_update(x):\n",
    "        return (x + a/x) / 2\n",
    "    def sqrt_close(x):\n",
    "        return approx_eq(x * x, a)\n",
    "    return improve(sqrt_close, sqrt_update)"
   ]
  },
  {
   "cell_type": "code",
   "execution_count": null,
   "metadata": {},
   "outputs": [],
   "source": [
    "sqrt(9)"
   ]
  },
  {
   "cell_type": "markdown",
   "metadata": {},
   "source": [
    "1.6.4: Functions as Returned Values"
   ]
  },
  {
   "cell_type": "code",
   "execution_count": null,
   "metadata": {},
   "outputs": [],
   "source": [
    "\"\"\" def compose1(f, g):\n",
    "    def h(x):\n",
    "        return f(g(x))\n",
    "    return h \"\"\""
   ]
  },
  {
   "cell_type": "code",
   "execution_count": null,
   "metadata": {},
   "outputs": [],
   "source": [
    "def square(x):\n",
    "    return x * x\n",
    "\n",
    "def successor(x):\n",
    "    return x + 1"
   ]
  },
  {
   "cell_type": "code",
   "execution_count": null,
   "metadata": {},
   "outputs": [],
   "source": [
    "successor_squared = compose1(square, successor)\n",
    "successor_squared(12)"
   ]
  },
  {
   "cell_type": "code",
   "execution_count": null,
   "metadata": {},
   "outputs": [],
   "source": [
    "def make_adder(f):\n",
    "    def adder(k):\n",
    "        return f + k\n",
    "    return adder"
   ]
  },
  {
   "cell_type": "code",
   "execution_count": null,
   "metadata": {},
   "outputs": [],
   "source": [
    "add3 = make_adder(3)\n",
    "add3(2) "
   ]
  },
  {
   "cell_type": "markdown",
   "metadata": {},
   "source": [
    "1.6.5: Example Newton's Method"
   ]
  },
  {
   "cell_type": "code",
   "execution_count": null,
   "metadata": {},
   "outputs": [],
   "source": [
    "def newton_update(f, df):\n",
    "    def update(x):\n",
    "        return x - f(x)/df(x)\n",
    "    return update\n",
    "\n",
    "def find_zero(f, df):\n",
    "    def near_zero(x):\n",
    "        return approx_eq(f(x), 0)\n",
    "    return improve(near_zero, newton_update(f, df))"
   ]
  },
  {
   "cell_type": "code",
   "execution_count": null,
   "metadata": {},
   "outputs": [],
   "source": [
    "def square_root_newton(a):\n",
    "    def f(x):\n",
    "        return x * x - a\n",
    "    def df(x):\n",
    "        return 2 * x\n",
    "    return find_zero(f, df)"
   ]
  },
  {
   "cell_type": "code",
   "execution_count": null,
   "metadata": {},
   "outputs": [],
   "source": [
    "square_root_newton(64)"
   ]
  },
  {
   "cell_type": "code",
   "execution_count": null,
   "metadata": {},
   "outputs": [],
   "source": [
    "def power(x, n):\n",
    "    product, k = 1, 0\n",
    "    while k < n:\n",
    "        product, k = product * x, k + 1\n",
    "    return product"
   ]
  },
  {
   "cell_type": "code",
   "execution_count": null,
   "metadata": {},
   "outputs": [],
   "source": [
    "def nth_root_newton(a, n):\n",
    "    def f(x):\n",
    "        return power(x, n) - a\n",
    "    def df(x):\n",
    "        return n * power(x, n - 1)\n",
    "    return find_zero(f, df)"
   ]
  },
  {
   "cell_type": "code",
   "execution_count": null,
   "metadata": {},
   "outputs": [],
   "source": [
    "nth_root_newton(100, 2)"
   ]
  },
  {
   "cell_type": "markdown",
   "metadata": {},
   "source": [
    "1.6.6: Currying"
   ]
  },
  {
   "cell_type": "code",
   "execution_count": null,
   "metadata": {},
   "outputs": [],
   "source": [
    "def curried_pow(x):\n",
    "    def h(y):\n",
    "        return pow(x, y)\n",
    "    return h\n"
   ]
  },
  {
   "cell_type": "code",
   "execution_count": null,
   "metadata": {},
   "outputs": [],
   "source": [
    "curried_pow(5)(5)"
   ]
  },
  {
   "cell_type": "code",
   "execution_count": null,
   "metadata": {},
   "outputs": [],
   "source": [
    "def map_to_range(start, end, f):\n",
    "    while start < end:\n",
    "        print(f(start))\n",
    "        start += 1"
   ]
  },
  {
   "cell_type": "code",
   "execution_count": null,
   "metadata": {},
   "outputs": [],
   "source": [
    "map_to_range(0, 10, curried_pow(5))"
   ]
  },
  {
   "cell_type": "code",
   "execution_count": null,
   "metadata": {},
   "outputs": [],
   "source": [
    "def curry2(f):\n",
    "    \"\"\"Return a curried version of the given two-argument function.\"\"\"\n",
    "    def g(x):\n",
    "        def h(y):\n",
    "            return f(x, y)\n",
    "        return h\n",
    "    return g\n",
    "\n",
    "def uncurry2(g):\n",
    "    \"\"\"Return a two-argument version of the given curried function.\"\"\"\n",
    "    def f(x, y):\n",
    "        return g(x)(y) \n",
    "    return f"
   ]
  },
  {
   "cell_type": "code",
   "execution_count": null,
   "metadata": {},
   "outputs": [],
   "source": [
    "pow_curried = curry2(pow)\n",
    "pow_curried(5)(6)"
   ]
  },
  {
   "cell_type": "code",
   "execution_count": null,
   "metadata": {},
   "outputs": [],
   "source": [
    "uncurry2(pow_curried)(5, 6)"
   ]
  },
  {
   "cell_type": "markdown",
   "metadata": {},
   "source": [
    "1.6.7: Lambda Expressions"
   ]
  },
  {
   "cell_type": "code",
   "execution_count": null,
   "metadata": {},
   "outputs": [],
   "source": [
    "def compose1(f, g):\n",
    "    return lambda x: f(g(x))\n",
    "\n",
    "\"\"\"compose1 = lambda f,g: lambda x: f(g(x))\"\"\""
   ]
  },
  {
   "cell_type": "code",
   "execution_count": null,
   "metadata": {},
   "outputs": [],
   "source": [
    "s = lambda x: x * x\n",
    "s(12)"
   ]
  },
  {
   "cell_type": "markdown",
   "metadata": {},
   "source": [
    "1.6.9: Function Decorators"
   ]
  },
  {
   "cell_type": "code",
   "execution_count": null,
   "metadata": {},
   "outputs": [],
   "source": [
    "def trace(fn):\n",
    "        def wrapped(x):\n",
    "            print('-> ', fn, '(', x, ')')\n",
    "            return fn(x)\n",
    "        return wrapped"
   ]
  },
  {
   "cell_type": "code",
   "execution_count": null,
   "metadata": {},
   "outputs": [],
   "source": [
    "h = trace(pow_curried)\n",
    "h(50)(2)"
   ]
  },
  {
   "cell_type": "code",
   "execution_count": null,
   "metadata": {},
   "outputs": [],
   "source": [
    "@trace\n",
    "def triple(x):\n",
    "    \"\"\"The @ decorator affects the def statement, triple is not bound to this function.\n",
    "    Insted the name triple is bound to the returned function value of calling trace\n",
    "    on the newly defined triple function. It is equivalent to \n",
    "    def triple(x):\n",
    "        return x * 3\n",
    "    triple = trace(triple)\"\"\"\n",
    "    return 3 * x"
   ]
  },
  {
   "cell_type": "code",
   "execution_count": null,
   "metadata": {},
   "outputs": [],
   "source": [
    "triple(5)"
   ]
  },
  {
   "cell_type": "markdown",
   "metadata": {},
   "source": [
    "Lecture 6: Iteration"
   ]
  },
  {
   "cell_type": "markdown",
   "metadata": {},
   "source": [
    "Inverse Function"
   ]
  },
  {
   "cell_type": "code",
   "execution_count": null,
   "metadata": {},
   "outputs": [],
   "source": [
    "def search(f):\n",
    "    x = 0\n",
    "    while not f(x):\n",
    "        x += 1\n",
    "    return x\n",
    "\n",
    "def inverse(f):\n",
    "    \"\"\"Return g(y) such that g(f(x)) = x.\"\"\"\n",
    "    return lambda y: search(lambda x: f(x) == y)\n",
    "\n",
    "def square(x):\n",
    "    return x * x\n",
    "\n",
    "sqrt = inverse(square)\n",
    "sqrt(256)"
   ]
  },
  {
   "cell_type": "markdown",
   "metadata": {},
   "source": [
    "Self-reference"
   ]
  },
  {
   "cell_type": "code",
   "execution_count": null,
   "metadata": {},
   "outputs": [],
   "source": [
    "def print_sum(x):\n",
    "    print(x)\n",
    "    def next_sum(y):\n",
    "        return print_sum(x + y)\n",
    "    return next_sum\n",
    "\n",
    "print_sum(1)(3)(5)"
   ]
  },
  {
   "cell_type": "code",
   "execution_count": null,
   "metadata": {},
   "outputs": [],
   "source": [
    "def isPalindrome(s):\n",
    "    return s == s[::-1]\n",
    "\n",
    "isPalindrome(\"liil\")"
   ]
  },
  {
   "cell_type": "markdown",
   "metadata": {},
   "source": [
    "1.7: Recursive Functions"
   ]
  },
  {
   "cell_type": "code",
   "execution_count": null,
   "metadata": {},
   "outputs": [],
   "source": [
    "#Sum of digits\n",
    "def sum_digits(n):\n",
    "    if n < 10:\n",
    "        return n\n",
    "    last, all_but_last = n % 10, n // 10\n",
    "    return last + sum_digits(all_but_last)"
   ]
  },
  {
   "cell_type": "code",
   "execution_count": null,
   "metadata": {},
   "outputs": [],
   "source": [
    "#Factorial\n",
    "def fact(n):\n",
    "    if n == 1:\n",
    "        return 1\n",
    "    else:\n",
    "        return n * fact(n - 1)\n",
    "fact(10)"
   ]
  },
  {
   "cell_type": "markdown",
   "metadata": {},
   "source": [
    "1.7.2: Mutual Recursion"
   ]
  },
  {
   "cell_type": "code",
   "execution_count": null,
   "metadata": {},
   "outputs": [],
   "source": [
    "def is_even(n):\n",
    "    if n == 0:\n",
    "        return True\n",
    "    else:\n",
    "        return is_odd(n - 1)\n",
    "\n",
    "def is_odd(n):\n",
    "    if n == 0:\n",
    "        return False\n",
    "    else:\n",
    "        return is_even(n - 1)"
   ]
  },
  {
   "cell_type": "code",
   "execution_count": null,
   "metadata": {},
   "outputs": [],
   "source": [
    "def cascade(n):\n",
    "    \"\"\"\"Print a cascade of prefixes of n\"\"\"\n",
    "    if n < 10:\n",
    "        print(n)\n",
    "    else:\n",
    "        print(n)\n",
    "        cascade(n // 10)\n",
    "        print(n)\n",
    "cascade(20134)"
   ]
  },
  {
   "cell_type": "code",
   "execution_count": null,
   "metadata": {},
   "outputs": [],
   "source": [
    "def play_alice(n):\n",
    "    if n == 0:\n",
    "        print(\"Bob wins\")\n",
    "    else:\n",
    "        play_bob(n - 1)\n",
    "\n",
    "def play_bob(n):\n",
    "    if n == 0:\n",
    "        print(\"Alice wins\")\n",
    "    else:\n",
    "        if is_even(n):\n",
    "            play_alice(n - 2)\n",
    "        else:\n",
    "            play_alice(n - 1)\n",
    "play_alice(20)"
   ]
  },
  {
   "cell_type": "markdown",
   "metadata": {},
   "source": [
    "1.7.4: Tree Recursion"
   ]
  },
  {
   "cell_type": "code",
   "execution_count": null,
   "metadata": {},
   "outputs": [],
   "source": [
    "def fib(n):\n",
    "    if n == 1:\n",
    "        return 0\n",
    "    if n == 2:\n",
    "        return 1\n",
    "    else:\n",
    "        return fib(n - 1) + fib(n - 2)"
   ]
  },
  {
   "cell_type": "markdown",
   "metadata": {},
   "source": [
    "1.7.5: Example Partitions"
   ]
  },
  {
   "cell_type": "code",
   "execution_count": null,
   "metadata": {},
   "outputs": [],
   "source": [
    "def count_partitions(n, m):\n",
    "    if n == 0:\n",
    "        return 1\n",
    "    elif n < 0:\n",
    "        return 0\n",
    "    elif m == 0:\n",
    "        return 0\n",
    "    else:\n",
    "        return count_partitions(n - m, m) + count_partitions(n, m - 1)\n",
    "\n",
    "count_partitions(6,4)"
   ]
  },
  {
   "cell_type": "markdown",
   "metadata": {},
   "source": [
    "Lecture 9: Recursion"
   ]
  },
  {
   "cell_type": "code",
   "execution_count": null,
   "metadata": {},
   "outputs": [],
   "source": [
    "#Luhn algorithm\n",
    "def split(n):\n",
    "    return n % 10, n // 10\n",
    "\n",
    "def luhn_sum_iter(n):\n",
    "    k, temp, total = 1, n, 0\n",
    "    while temp > 0:\n",
    "        last, all_but_last = split(temp)\n",
    "        temp = all_but_last\n",
    "        if k % 2 == 1:\n",
    "            if last * 2 > 9:\n",
    "                total += sum_digits(last * 2)\n",
    "            else:\n",
    "                total += last * 2\n",
    "        else:\n",
    "            total += last\n",
    "        k += 1\n",
    "    return total\n",
    "\n",
    "def luhn_sum_recursion(n):\n",
    "    if n < 10:\n",
    "        return n\n",
    "    else:\n",
    "        last, all_but_last = split(n)\n",
    "        return luhn_sum_double(all_but_last) + last\n",
    "\n",
    "def luhn_sum_double(n):\n",
    "    if n < 5:\n",
    "        return n * 2\n",
    "    else:\n",
    "        last, all_but_last = split(n)\n",
    "        return sum_digits(last * 2) + luhn_sum_recursion(all_but_last)\n",
    "\n",
    "def luhn_check(n):\n",
    "    if n % 10 == 0:\n",
    "        return True\n",
    "    else:\n",
    "        return False\n",
    "luhn_sum_recursion(138743)\n"
   ]
  },
  {
   "cell_type": "markdown",
   "metadata": {},
   "source": [
    "Lecture 10: Tree Recursion"
   ]
  },
  {
   "cell_type": "code",
   "execution_count": 3,
   "metadata": {},
   "outputs": [
    {
     "name": "stdout",
     "output_type": "stream",
     "text": [
      "1\n",
      "12\n",
      "123\n",
      "1234\n",
      "123\n",
      "12\n",
      "1\n"
     ]
    }
   ],
   "source": [
    "def inverse_cascade(n):\n",
    "    def f_then_g(f, g, n):\n",
    "        if n:\n",
    "            f(n)\n",
    "            g(n)\n",
    "    grow = lambda n: f_then_g(grow, print, n // 10)\n",
    "    shrink = lambda n: f_then_g(print, shrink, n // 10)\n",
    "    grow(n)\n",
    "    print(n)\n",
    "    shrink(n)\n",
    "inverse_cascade(1234)"
   ]
  },
  {
   "cell_type": "code",
   "execution_count": 1,
   "metadata": {},
   "outputs": [
    {
     "data": {
      "text/plain": [
       "6"
      ]
     },
     "execution_count": 1,
     "metadata": {},
     "output_type": "execute_result"
    }
   ],
   "source": [
    "def near_largest_change(num):\n",
    "    i = 0\n",
    "    while num != 1:\n",
    "        num //= 2\n",
    "        i += 1\n",
    "    return i\n",
    "near_largest_change(100)"
   ]
  }
 ],
 "metadata": {
  "interpreter": {
   "hash": "0d591c6e422414675974e227c13f5382000c440fedd3c5006ef2be5d887f0ba7"
  },
  "kernelspec": {
   "display_name": "Python 3.9.5 64-bit",
   "language": "python",
   "name": "python3"
  },
  "language_info": {
   "codemirror_mode": {
    "name": "ipython",
    "version": 3
   },
   "file_extension": ".py",
   "mimetype": "text/x-python",
   "name": "python",
   "nbconvert_exporter": "python",
   "pygments_lexer": "ipython3",
   "version": "3.9.5"
  },
  "orig_nbformat": 4
 },
 "nbformat": 4,
 "nbformat_minor": 2
}
